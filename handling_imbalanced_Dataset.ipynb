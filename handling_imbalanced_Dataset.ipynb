{
  "nbformat": 4,
  "nbformat_minor": 0,
  "metadata": {
    "colab": {
      "provenance": [],
      "authorship_tag": "ABX9TyPrjOzJWJ5MTIcjFdLyqIfA",
      "include_colab_link": true
    },
    "kernelspec": {
      "name": "python3",
      "display_name": "Python 3"
    },
    "language_info": {
      "name": "python"
    }
  },
  "cells": [
    {
      "cell_type": "markdown",
      "metadata": {
        "id": "view-in-github",
        "colab_type": "text"
      },
      "source": [
        "<a href=\"https://colab.research.google.com/github/ghassenov/ML-notebooks/blob/main/handling_imbalanced_Dataset.ipynb\" target=\"_parent\"><img src=\"https://colab.research.google.com/assets/colab-badge.svg\" alt=\"Open In Colab\"/></a>"
      ]
    },
    {
      "cell_type": "markdown",
      "source": [
        "Imbalanced Dataset : Def,Impact, and Handling Techniques.\n",
        "\n",
        "---\n",
        "What is an imbalanced dataset?\n",
        "* an imbalanced dataset occurs when the distribution of classes in the target variable is highly skewed, meaning one class outnumbers the other one.\n",
        "\n",
        "Why handle Imbalanced Data?\n",
        "* imbalanced datasets can lead to biased model performance because the model may overfit the majority class and ignore the minority class.\n",
        "* the model fails to learn meaningful patterns for the minority class.\n",
        "\n",
        "How to Handle Imbalanced Data?\n",
        "* Undersampling: Reduce the majority class samples randomly to balance the dataset.\n",
        "* Oversampling : increase minority class samples\n"
      ],
      "metadata": {
        "id": "en1O5RrJJ-AN"
      }
    },
    {
      "cell_type": "code",
      "source": [
        "# importing libraries\n",
        "import pandas as pd\n",
        "from sklearn.datasets import make_classification\n",
        "from collections import Counter"
      ],
      "metadata": {
        "id": "YT0DNEkTLYJl"
      },
      "execution_count": 1,
      "outputs": []
    },
    {
      "cell_type": "markdown",
      "source": [
        "* 'make_classification' function from scikit-learn generates an artificial dataset for classification problems\n",
        "* 'Counter' class helps count the occurences of each class in the target variable."
      ],
      "metadata": {
        "id": "dxZj1XgmMpmc"
      }
    },
    {
      "cell_type": "code",
      "source": [
        "# create an imbalanced synthetic dataset\n",
        "X,y = make_classification(n_samples=1000,weights=[0.9,0.1],random_state=42)"
      ],
      "metadata": {
        "id": "LOrdK8wzLkwV"
      },
      "execution_count": 2,
      "outputs": []
    },
    {
      "cell_type": "markdown",
      "source": [
        "* 90% of samples belong to class 0\n",
        "* 10% of samples belong to class 1"
      ],
      "metadata": {
        "id": "AOJdlEz7NEKN"
      }
    },
    {
      "cell_type": "code",
      "source": [
        "print(X.shape,y.shape)"
      ],
      "metadata": {
        "colab": {
          "base_uri": "https://localhost:8080/"
        },
        "id": "15H-HJyoMGiQ",
        "outputId": "13aa1aa6-1045-4368-e2b3-7b394a99e560"
      },
      "execution_count": 3,
      "outputs": [
        {
          "output_type": "stream",
          "name": "stdout",
          "text": [
            "(1000, 20) (1000,)\n"
          ]
        }
      ]
    },
    {
      "cell_type": "code",
      "source": [
        "df = pd.DataFrame(X,columns=[f'feature_{i}' for i in range(X.shape[1])])\n",
        "df['target'] = y"
      ],
      "metadata": {
        "id": "Dg7ijKuCMJbX"
      },
      "execution_count": 5,
      "outputs": []
    },
    {
      "cell_type": "markdown",
      "source": [
        "this converts the feature matrix X into a pandas DataFrame.\n",
        "* X.shape[1] gives the number of features (columns) in X\n",
        "* f'feature_{i}' dynamically names columns as feature_0, feature_1...\n",
        "* df['target'] = y adds the target variable y as a new column named 'target'"
      ],
      "metadata": {
        "id": "tv6u4KSDNS30"
      }
    },
    {
      "cell_type": "code",
      "source": [
        "print(\"Class Distribution\",Counter(y))"
      ],
      "metadata": {
        "colab": {
          "base_uri": "https://localhost:8080/"
        },
        "id": "ryPscV1_N_p9",
        "outputId": "0c4d1fc8-18d5-4871-a75e-cc11fb4640e9"
      },
      "execution_count": 7,
      "outputs": [
        {
          "output_type": "stream",
          "name": "stdout",
          "text": [
            "Class Distribution Counter({np.int64(0): 897, np.int64(1): 103})\n"
          ]
        }
      ]
    },
    {
      "cell_type": "markdown",
      "source": [
        "Undersampling majority class"
      ],
      "metadata": {
        "id": "4dQQPffhOKQs"
      }
    },
    {
      "cell_type": "code",
      "source": [
        "# separating majority and minority classes\n",
        "df_majority = df[df['target']==0]\n",
        "df_minority = df[df['target']==1]"
      ],
      "metadata": {
        "id": "Qhc4sxKXOHxk"
      },
      "execution_count": 10,
      "outputs": []
    },
    {
      "cell_type": "code",
      "source": [
        "# undersampling majority class to match minority class size\n",
        "df_majority_undersampled = df_majority.sample(n=len(df_minority),random_state=42)"
      ],
      "metadata": {
        "id": "aa5V7MkpOfRG"
      },
      "execution_count": 11,
      "outputs": []
    },
    {
      "cell_type": "code",
      "source": [
        "#combine undersampled majority and minority classes\n",
        "df_balanced = pd.concat([df_majority_undersampled,df_minority],axis = 0)"
      ],
      "metadata": {
        "id": "TVnaSNd5OzUS"
      },
      "execution_count": 12,
      "outputs": []
    },
    {
      "cell_type": "code",
      "source": [
        "print(\"Balanced Class Distribution: \",Counter(df_balanced['target']))"
      ],
      "metadata": {
        "colab": {
          "base_uri": "https://localhost:8080/"
        },
        "id": "tCuzX1t1PVss",
        "outputId": "ccb05704-b506-4736-c09d-8ba54752a992"
      },
      "execution_count": 13,
      "outputs": [
        {
          "output_type": "stream",
          "name": "stdout",
          "text": [
            "Balanced Class Distribution:  Counter({0: 103, 1: 103})\n"
          ]
        }
      ]
    }
  ]
}