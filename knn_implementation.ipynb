{
  "nbformat": 4,
  "nbformat_minor": 0,
  "metadata": {
    "colab": {
      "provenance": [],
      "authorship_tag": "ABX9TyOKAOM341VTAC+6ZR7tR4dj",
      "include_colab_link": true
    },
    "kernelspec": {
      "name": "python3",
      "display_name": "Python 3"
    },
    "language_info": {
      "name": "python"
    }
  },
  "cells": [
    {
      "cell_type": "markdown",
      "metadata": {
        "id": "view-in-github",
        "colab_type": "text"
      },
      "source": [
        "<a href=\"https://colab.research.google.com/github/ghassenov/ML-notebooks/blob/main/knn_implementation.ipynb\" target=\"_parent\"><img src=\"https://colab.research.google.com/assets/colab-badge.svg\" alt=\"Open In Colab\"/></a>"
      ]
    },
    {
      "cell_type": "code",
      "execution_count": 19,
      "metadata": {
        "id": "2GLW9_BMqae6"
      },
      "outputs": [],
      "source": [
        "import numpy as np\n",
        "from collections import Counter\n",
        "\n",
        "def euclidean_distance(x1,x2):\n",
        "  return np.sqrt(np.sum((x1-x2)**2))\n",
        "class knn:\n",
        "  def __init__(self,k=3):\n",
        "    self.k = k\n",
        "  def fit(self,X, y):\n",
        "    self.X_train = X\n",
        "    self.y_train = y\n",
        "  def predict(self,X):\n",
        "    predicted_labels = [self._predict(x) for x in X]\n",
        "    return np.array(predicted_labels)\n",
        "\n",
        "  def _predict(self,x):\n",
        "    # compute the distances\n",
        "    distances = [euclidean_distance(x,x_train) for x_train in self.X_train]\n",
        "    # we calculate distances from input x to all training points\n",
        "    # get k nearest samples, labels\n",
        "    k_indices = np.argsort(distances)[0:self.k] # we take first k smallest distances\n",
        "    k_nearest_labels = [self.y_train[i] for i in k_indices] # retrieve corresponding labels from training data\n",
        "    #majority vote\n",
        "    most_common = Counter(k_nearest_labels).most_common(1) #counts occurences of each label in k-nearest labels\n",
        "    return most_common[0][0] #returns the predicted label\n",
        "\n"
      ]
    },
    {
      "cell_type": "markdown",
      "source": [],
      "metadata": {
        "id": "RAzyRJ59xxLP"
      }
    },
    {
      "cell_type": "markdown",
      "source": [
        "Test Code"
      ],
      "metadata": {
        "id": "CES1TFVtq8_v"
      }
    },
    {
      "cell_type": "code",
      "source": [
        "import numpy as np\n",
        "from sklearn import datasets\n",
        "from sklearn.model_selection import train_test_split\n",
        "import matplotlib.pyplot as plt\n",
        "from matplotlib.colors import ListedColormap\n",
        "cmap = ListedColormap(['#FF0000','#00FF00','#0000FF'])"
      ],
      "metadata": {
        "id": "PDWWy49tq_Oj"
      },
      "execution_count": 1,
      "outputs": []
    },
    {
      "cell_type": "code",
      "source": [
        "iris = datasets.load_iris()\n",
        "X,y = iris.data,iris.target"
      ],
      "metadata": {
        "id": "m9OUS4jnrtD2"
      },
      "execution_count": 2,
      "outputs": []
    },
    {
      "cell_type": "code",
      "source": [
        "X_train,X_test, y_train,y_test = train_test_split(X,y,test_size=0.2,random_state=1234)"
      ],
      "metadata": {
        "id": "FomYAQD8r24Q"
      },
      "execution_count": 3,
      "outputs": []
    },
    {
      "cell_type": "code",
      "source": [
        "X_train.shape"
      ],
      "metadata": {
        "colab": {
          "base_uri": "https://localhost:8080/"
        },
        "id": "gGcY0lBnsJd3",
        "outputId": "12583f78-2f5d-4f8f-f665-dbc472acb09d"
      },
      "execution_count": 4,
      "outputs": [
        {
          "output_type": "execute_result",
          "data": {
            "text/plain": [
              "(120, 4)"
            ]
          },
          "metadata": {},
          "execution_count": 4
        }
      ]
    },
    {
      "cell_type": "code",
      "source": [
        "y_train.shape"
      ],
      "metadata": {
        "colab": {
          "base_uri": "https://localhost:8080/"
        },
        "id": "qsc4mo89slOA",
        "outputId": "12729a4f-6809-476d-fb17-a9483edffef1"
      },
      "execution_count": 5,
      "outputs": [
        {
          "output_type": "execute_result",
          "data": {
            "text/plain": [
              "(120,)"
            ]
          },
          "metadata": {},
          "execution_count": 5
        }
      ]
    },
    {
      "cell_type": "code",
      "source": [
        "clf = knn(k=5)"
      ],
      "metadata": {
        "id": "4WGc_VwWwMjv"
      },
      "execution_count": 16,
      "outputs": []
    },
    {
      "cell_type": "code",
      "source": [
        "clf.fit(X_train,y_train)\n",
        "predictions = clf.predict(X_test)"
      ],
      "metadata": {
        "id": "wKAEKnadwkhZ"
      },
      "execution_count": 17,
      "outputs": []
    },
    {
      "cell_type": "code",
      "source": [
        "acc = np.sum(predictions == y_test)/len(y_test)\n",
        "acc"
      ],
      "metadata": {
        "colab": {
          "base_uri": "https://localhost:8080/"
        },
        "id": "VcYC9ko1wyPJ",
        "outputId": "4757d5ce-bfa9-4698-8198-d8bbe3c65649"
      },
      "execution_count": 20,
      "outputs": [
        {
          "output_type": "execute_result",
          "data": {
            "text/plain": [
              "np.float64(0.9666666666666667)"
            ]
          },
          "metadata": {},
          "execution_count": 20
        }
      ]
    }
  ]
}