{
  "nbformat": 4,
  "nbformat_minor": 0,
  "metadata": {
    "colab": {
      "provenance": [],
      "authorship_tag": "ABX9TyOjNMd1ZzLBNCAziQE4paYw",
      "include_colab_link": true
    },
    "kernelspec": {
      "name": "python3",
      "display_name": "Python 3"
    },
    "language_info": {
      "name": "python"
    }
  },
  "cells": [
    {
      "cell_type": "markdown",
      "metadata": {
        "id": "view-in-github",
        "colab_type": "text"
      },
      "source": [
        "<a href=\"https://colab.research.google.com/github/ghassenov/ML-notebooks/blob/main/python_basics_for_ML.ipynb\" target=\"_parent\"><img src=\"https://colab.research.google.com/assets/colab-badge.svg\" alt=\"Open In Colab\"/></a>"
      ]
    },
    {
      "cell_type": "markdown",
      "source": [
        "Python Lists"
      ],
      "metadata": {
        "id": "2-bj0ZdNgXgS"
      }
    },
    {
      "cell_type": "code",
      "source": [
        "l = [1,2,3,4,5] #lists elements can be accessed using [] (note that [n:m] n->m-1 and -1 is the last element of the list)\n",
        "l2 = [1,1,1,1] #allows duplicates\n",
        "print(len(l)) #prints the len of a list"
      ],
      "metadata": {
        "id": "IuZoCuQkL-p5",
        "colab": {
          "base_uri": "https://localhost:8080/"
        },
        "outputId": "320ac084-b77c-4912-b53a-1decf624ff94"
      },
      "execution_count": null,
      "outputs": [
        {
          "output_type": "stream",
          "name": "stdout",
          "text": [
            "5\n"
          ]
        }
      ]
    },
    {
      "cell_type": "code",
      "source": [
        "#lists can support multiple data types\n",
        "list1 = [\"abc\", 34, True, 40, \"male\"]\n",
        "print(list1)\n",
        "print(type(list1))"
      ],
      "metadata": {
        "colab": {
          "base_uri": "https://localhost:8080/"
        },
        "id": "cI6Eof3DhAPS",
        "outputId": "3200af7c-b74b-48fb-90d4-6e731875c15e"
      },
      "execution_count": null,
      "outputs": [
        {
          "output_type": "stream",
          "name": "stdout",
          "text": [
            "['abc', 34, True, 40, 'male']\n",
            "<class 'list'>\n"
          ]
        }
      ]
    },
    {
      "cell_type": "code",
      "source": [
        "# it is also possible to use the list() constructor when creating a new list\n",
        "l1 = list((1,2,3))\n",
        "print(l1)"
      ],
      "metadata": {
        "colab": {
          "base_uri": "https://localhost:8080/"
        },
        "id": "Ou8FSADyhRWA",
        "outputId": "0c30d909-e52e-4f72-d42e-d555c451b374"
      },
      "execution_count": null,
      "outputs": [
        {
          "output_type": "stream",
          "name": "stdout",
          "text": [
            "[1, 2, 3]\n"
          ]
        }
      ]
    },
    {
      "cell_type": "code",
      "source": [
        "#insert() inserts an item at the specified index\n",
        "l=[1,2,3]\n",
        "l.insert(1,\"hello\")\n",
        "print(l)"
      ],
      "metadata": {
        "colab": {
          "base_uri": "https://localhost:8080/"
        },
        "id": "MdvihSrQiS3a",
        "outputId": "73a40a95-8e30-4bb2-e3b7-2674dda44c51"
      },
      "execution_count": null,
      "outputs": [
        {
          "output_type": "stream",
          "name": "stdout",
          "text": [
            "[1, 'hello', 2, 3]\n"
          ]
        }
      ]
    },
    {
      "cell_type": "code",
      "source": [
        "#append() adds an element to the end of the list\n",
        "l.append(5)\n",
        "print(l)"
      ],
      "metadata": {
        "colab": {
          "base_uri": "https://localhost:8080/"
        },
        "id": "T0E0-o-iixkp",
        "outputId": "a05a0d12-2868-4e75-db93-98bb3c62742a"
      },
      "execution_count": null,
      "outputs": [
        {
          "output_type": "stream",
          "name": "stdout",
          "text": [
            "[1, 'hello', 2, 3, 5]\n"
          ]
        }
      ]
    },
    {
      "cell_type": "code",
      "source": [
        "#extend() appends elements from another list\n",
        "l1=[6,7]\n",
        "l.extend(l1)\n",
        "print(l)\n",
        "#we can also use simple concatenation with \"+\""
      ],
      "metadata": {
        "colab": {
          "base_uri": "https://localhost:8080/"
        },
        "id": "8o4LOPmXjAqZ",
        "outputId": "b494ff5a-7dc9-48b4-bdd8-bf7971547bfb"
      },
      "execution_count": null,
      "outputs": [
        {
          "output_type": "stream",
          "name": "stdout",
          "text": [
            "[1, 'hello', 2, 3, 5, 6, 7]\n"
          ]
        }
      ]
    },
    {
      "cell_type": "code",
      "source": [
        "#remove() removes specified item (first occurence)\n",
        "l.remove(7)\n",
        "print(l)"
      ],
      "metadata": {
        "colab": {
          "base_uri": "https://localhost:8080/"
        },
        "id": "-F8I3p0djYpx",
        "outputId": "bb3aaee0-dfac-44d2-d36f-487743106034"
      },
      "execution_count": null,
      "outputs": [
        {
          "output_type": "stream",
          "name": "stdout",
          "text": [
            "[1, 'hello', 2, 3, 5, 6]\n"
          ]
        }
      ]
    },
    {
      "cell_type": "code",
      "source": [
        "#pop() same as remove but uses an index as an argument (we can also use del)\n",
        "l.pop(5)\n",
        "print(l)\n",
        "#clear() empties the list, but the list remains"
      ],
      "metadata": {
        "colab": {
          "base_uri": "https://localhost:8080/"
        },
        "id": "uUMMpts3knKx",
        "outputId": "881822cf-557f-4064-abcf-6dcf7ee9ab9c"
      },
      "execution_count": null,
      "outputs": [
        {
          "output_type": "stream",
          "name": "stdout",
          "text": [
            "[1, 'hello', 2, 3, 5]\n"
          ]
        }
      ]
    },
    {
      "cell_type": "code",
      "source": [
        "#loop through a list with for:\n",
        "for x in l:\n",
        "  print(x)"
      ],
      "metadata": {
        "colab": {
          "base_uri": "https://localhost:8080/"
        },
        "id": "L_jo7z0HlwCS",
        "outputId": "a14d791f-8cf2-40ba-88e8-f9d77ef326aa"
      },
      "execution_count": null,
      "outputs": [
        {
          "output_type": "stream",
          "name": "stdout",
          "text": [
            "1\n",
            "hello\n",
            "2\n",
            "3\n",
            "5\n"
          ]
        }
      ]
    },
    {
      "cell_type": "code",
      "source": [
        "# or using range() and len()\n",
        "for i in range(len(l)):\n",
        "  print(l[i])"
      ],
      "metadata": {
        "colab": {
          "base_uri": "https://localhost:8080/"
        },
        "id": "9CfG3YR7l4XZ",
        "outputId": "83c8e83c-0373-472f-94cc-28672860da7a"
      },
      "execution_count": null,
      "outputs": [
        {
          "output_type": "stream",
          "name": "stdout",
          "text": [
            "1\n",
            "hello\n",
            "2\n",
            "3\n",
            "5\n"
          ]
        }
      ]
    },
    {
      "cell_type": "code",
      "source": [
        "#list comprehension\n",
        "#syntax:\n",
        "#newlist = [expression for item in iterable if condition == True]\n",
        "l=[1,2,3,4,5,6]\n",
        "l1 = [x for x in l if x%2==0]\n",
        "print(l1)"
      ],
      "metadata": {
        "colab": {
          "base_uri": "https://localhost:8080/"
        },
        "id": "VF83vf5RmClx",
        "outputId": "a7d08cd4-0f05-4fe2-88ec-5e426044dbb8"
      },
      "execution_count": null,
      "outputs": [
        {
          "output_type": "stream",
          "name": "stdout",
          "text": [
            "[2, 4, 6]\n"
          ]
        }
      ]
    },
    {
      "cell_type": "code",
      "source": [
        "l2 = [x for x in range(10)]\n",
        "print(l2)"
      ],
      "metadata": {
        "colab": {
          "base_uri": "https://localhost:8080/"
        },
        "id": "q9tGE91Dpd1y",
        "outputId": "bccdb63e-2158-4d06-e6d7-13224af70827"
      },
      "execution_count": null,
      "outputs": [
        {
          "output_type": "stream",
          "name": "stdout",
          "text": [
            "[0, 1, 2, 3, 4, 5, 6, 7, 8, 9]\n"
          ]
        }
      ]
    },
    {
      "cell_type": "code",
      "source": [
        "l3 = [x if x%2==0 else 0 for x in l]\n",
        "print(l3)"
      ],
      "metadata": {
        "colab": {
          "base_uri": "https://localhost:8080/"
        },
        "id": "HDCcJChtp1Ax",
        "outputId": "db8cf1a7-b838-4791-a217-205f0ecd88d2"
      },
      "execution_count": null,
      "outputs": [
        {
          "output_type": "stream",
          "name": "stdout",
          "text": [
            "[0, 2, 0, 4, 0, 6]\n"
          ]
        }
      ]
    },
    {
      "cell_type": "code",
      "source": [
        "#sort() sorts the list alphanumerically\n",
        "#sort(reverse = True)-> sorts descending\n",
        "l.sort(reverse=True)\n",
        "print(l)"
      ],
      "metadata": {
        "colab": {
          "base_uri": "https://localhost:8080/"
        },
        "id": "NLpkIxiFs-Hi",
        "outputId": "6f192053-8203-491b-aa74-e1fbc2fbd95d"
      },
      "execution_count": null,
      "outputs": [
        {
          "output_type": "stream",
          "name": "stdout",
          "text": [
            "[6, 5, 4, 3, 2, 1]\n"
          ]
        }
      ]
    },
    {
      "cell_type": "code",
      "source": [
        "def f(n):\n",
        "  return abs(n-50)\n",
        "l = [100,50,65,82,23]\n",
        "l.sort(key = f)\n",
        "print(l) #sorts the list based on how close the number is to 50"
      ],
      "metadata": {
        "colab": {
          "base_uri": "https://localhost:8080/"
        },
        "id": "zoGf3iGltV-S",
        "outputId": "7c311475-cc33-49b4-9a4b-9fdfd4dc6211"
      },
      "execution_count": null,
      "outputs": [
        {
          "output_type": "stream",
          "name": "stdout",
          "text": [
            "[50, 65, 23, 82, 100]\n"
          ]
        }
      ]
    },
    {
      "cell_type": "code",
      "source": [
        "#(key = str.lower) performs a case-insensitive sort of the list\n",
        "#reverse() reverses a list\n",
        "l.reverse()\n",
        "print(l)"
      ],
      "metadata": {
        "colab": {
          "base_uri": "https://localhost:8080/"
        },
        "id": "Ie-85fOUtrub",
        "outputId": "6c8fb3b6-4bed-4807-9646-ff11936c7760"
      },
      "execution_count": null,
      "outputs": [
        {
          "output_type": "stream",
          "name": "stdout",
          "text": [
            "[100, 82, 23, 65, 50]\n"
          ]
        }
      ]
    },
    {
      "cell_type": "code",
      "source": [
        "#copy() copies a list to another\n",
        "l2 = l.copy()\n",
        "print(l2)\n",
        "#we can also use the \":\" operator\n",
        "# l2 = l[:]"
      ],
      "metadata": {
        "colab": {
          "base_uri": "https://localhost:8080/"
        },
        "id": "vIF90qbAuSk6",
        "outputId": "ea07d8e3-4fe9-4e95-8c8b-f65cfe30eae9"
      },
      "execution_count": null,
      "outputs": [
        {
          "output_type": "stream",
          "name": "stdout",
          "text": [
            "[100, 82, 23, 65, 50]\n"
          ]
        }
      ]
    },
    {
      "cell_type": "markdown",
      "source": [
        "Python Tuples"
      ],
      "metadata": {
        "id": "3f2Bkefdys_7"
      }
    },
    {
      "cell_type": "code",
      "source": [],
      "metadata": {
        "id": "GfRD-3d4IUSc"
      },
      "execution_count": null,
      "outputs": []
    }
  ]
}