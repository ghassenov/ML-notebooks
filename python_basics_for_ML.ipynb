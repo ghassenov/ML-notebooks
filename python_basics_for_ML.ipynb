{
  "nbformat": 4,
  "nbformat_minor": 0,
  "metadata": {
    "colab": {
      "provenance": [],
      "authorship_tag": "ABX9TyOh0lZZ9LSUG+E8BBBLJcYm"
    },
    "kernelspec": {
      "name": "python3",
      "display_name": "Python 3"
    },
    "language_info": {
      "name": "python"
    }
  },
  "cells": [
    {
      "cell_type": "markdown",
      "source": [
        "Python Lists"
      ],
      "metadata": {
        "id": "2-bj0ZdNgXgS"
      }
    },
    {
      "cell_type": "code",
      "source": [
        "l = [1,2,3,4,5] #lists elements can be accessed using [] (note that [n:m] n->m-1 and -1 is the last element of the list)\n",
        "l2 = [1,1,1,1] #allows duplicates\n",
        "print(len(l)) #prints the len of a list"
      ],
      "metadata": {
        "id": "IuZoCuQkL-p5",
        "colab": {
          "base_uri": "https://localhost:8080/"
        },
        "outputId": "320ac084-b77c-4912-b53a-1decf624ff94"
      },
      "execution_count": null,
      "outputs": [
        {
          "output_type": "stream",
          "name": "stdout",
          "text": [
            "5\n"
          ]
        }
      ]
    },
    {
      "cell_type": "code",
      "source": [
        "#lists can support multiple data types\n",
        "list1 = [\"abc\", 34, True, 40, \"male\"]\n",
        "print(list1)\n",
        "print(type(list1))"
      ],
      "metadata": {
        "colab": {
          "base_uri": "https://localhost:8080/"
        },
        "id": "cI6Eof3DhAPS",
        "outputId": "3200af7c-b74b-48fb-90d4-6e731875c15e"
      },
      "execution_count": null,
      "outputs": [
        {
          "output_type": "stream",
          "name": "stdout",
          "text": [
            "['abc', 34, True, 40, 'male']\n",
            "<class 'list'>\n"
          ]
        }
      ]
    },
    {
      "cell_type": "code",
      "source": [
        "# it is also possible to use the list() constructor when creating a new list\n",
        "l1 = list((1,2,3))\n",
        "print(l1)"
      ],
      "metadata": {
        "colab": {
          "base_uri": "https://localhost:8080/"
        },
        "id": "Ou8FSADyhRWA",
        "outputId": "0c30d909-e52e-4f72-d42e-d555c451b374"
      },
      "execution_count": null,
      "outputs": [
        {
          "output_type": "stream",
          "name": "stdout",
          "text": [
            "[1, 2, 3]\n"
          ]
        }
      ]
    },
    {
      "cell_type": "code",
      "source": [
        "#insert() inserts an item at the specified index\n",
        "l=[1,2,3]\n",
        "l.insert(1,\"hello\")\n",
        "print(l)"
      ],
      "metadata": {
        "colab": {
          "base_uri": "https://localhost:8080/"
        },
        "id": "MdvihSrQiS3a",
        "outputId": "73a40a95-8e30-4bb2-e3b7-2674dda44c51"
      },
      "execution_count": null,
      "outputs": [
        {
          "output_type": "stream",
          "name": "stdout",
          "text": [
            "[1, 'hello', 2, 3]\n"
          ]
        }
      ]
    },
    {
      "cell_type": "code",
      "source": [
        "#append() adds an element to the end of the list\n",
        "l.append(5)\n",
        "print(l)"
      ],
      "metadata": {
        "colab": {
          "base_uri": "https://localhost:8080/"
        },
        "id": "T0E0-o-iixkp",
        "outputId": "a05a0d12-2868-4e75-db93-98bb3c62742a"
      },
      "execution_count": null,
      "outputs": [
        {
          "output_type": "stream",
          "name": "stdout",
          "text": [
            "[1, 'hello', 2, 3, 5]\n"
          ]
        }
      ]
    },
    {
      "cell_type": "code",
      "source": [
        "#extend() appends elements from another list\n",
        "l1=[6,7]\n",
        "l.extend(l1)\n",
        "print(l)\n",
        "#we can also use simple concatenation with \"+\""
      ],
      "metadata": {
        "colab": {
          "base_uri": "https://localhost:8080/"
        },
        "id": "8o4LOPmXjAqZ",
        "outputId": "b494ff5a-7dc9-48b4-bdd8-bf7971547bfb"
      },
      "execution_count": null,
      "outputs": [
        {
          "output_type": "stream",
          "name": "stdout",
          "text": [
            "[1, 'hello', 2, 3, 5, 6, 7]\n"
          ]
        }
      ]
    },
    {
      "cell_type": "code",
      "source": [
        "#remove() removes specified item (first occurence)\n",
        "l.remove(7)\n",
        "print(l)"
      ],
      "metadata": {
        "colab": {
          "base_uri": "https://localhost:8080/"
        },
        "id": "-F8I3p0djYpx",
        "outputId": "bb3aaee0-dfac-44d2-d36f-487743106034"
      },
      "execution_count": null,
      "outputs": [
        {
          "output_type": "stream",
          "name": "stdout",
          "text": [
            "[1, 'hello', 2, 3, 5, 6]\n"
          ]
        }
      ]
    },
    {
      "cell_type": "code",
      "source": [
        "#pop() same as remove but uses an index as an argument (we can also use del)\n",
        "l.pop(5)\n",
        "print(l)\n",
        "#clear() empties the list, but the list remains"
      ],
      "metadata": {
        "colab": {
          "base_uri": "https://localhost:8080/"
        },
        "id": "uUMMpts3knKx",
        "outputId": "881822cf-557f-4064-abcf-6dcf7ee9ab9c"
      },
      "execution_count": null,
      "outputs": [
        {
          "output_type": "stream",
          "name": "stdout",
          "text": [
            "[1, 'hello', 2, 3, 5]\n"
          ]
        }
      ]
    },
    {
      "cell_type": "code",
      "source": [
        "#loop through a list with for:\n",
        "for x in l:\n",
        "  print(x)"
      ],
      "metadata": {
        "colab": {
          "base_uri": "https://localhost:8080/"
        },
        "id": "L_jo7z0HlwCS",
        "outputId": "a14d791f-8cf2-40ba-88e8-f9d77ef326aa"
      },
      "execution_count": null,
      "outputs": [
        {
          "output_type": "stream",
          "name": "stdout",
          "text": [
            "1\n",
            "hello\n",
            "2\n",
            "3\n",
            "5\n"
          ]
        }
      ]
    },
    {
      "cell_type": "code",
      "source": [
        "# or using range() and len()\n",
        "for i in range(len(l)):\n",
        "  print(l[i])"
      ],
      "metadata": {
        "colab": {
          "base_uri": "https://localhost:8080/"
        },
        "id": "9CfG3YR7l4XZ",
        "outputId": "83c8e83c-0373-472f-94cc-28672860da7a"
      },
      "execution_count": null,
      "outputs": [
        {
          "output_type": "stream",
          "name": "stdout",
          "text": [
            "1\n",
            "hello\n",
            "2\n",
            "3\n",
            "5\n"
          ]
        }
      ]
    },
    {
      "cell_type": "code",
      "source": [
        "#list comprehension\n",
        "#syntax:\n",
        "#newlist = [expression for item in iterable if condition == True]\n",
        "l=[1,2,3,4,5,6]\n",
        "l1 = [x for x in l if x%2==0]\n",
        "print(l1)"
      ],
      "metadata": {
        "colab": {
          "base_uri": "https://localhost:8080/"
        },
        "id": "VF83vf5RmClx",
        "outputId": "a7d08cd4-0f05-4fe2-88ec-5e426044dbb8"
      },
      "execution_count": null,
      "outputs": [
        {
          "output_type": "stream",
          "name": "stdout",
          "text": [
            "[2, 4, 6]\n"
          ]
        }
      ]
    },
    {
      "cell_type": "code",
      "source": [
        "l2 = [x for x in range(10)]\n",
        "print(l2)"
      ],
      "metadata": {
        "colab": {
          "base_uri": "https://localhost:8080/"
        },
        "id": "q9tGE91Dpd1y",
        "outputId": "bccdb63e-2158-4d06-e6d7-13224af70827"
      },
      "execution_count": null,
      "outputs": [
        {
          "output_type": "stream",
          "name": "stdout",
          "text": [
            "[0, 1, 2, 3, 4, 5, 6, 7, 8, 9]\n"
          ]
        }
      ]
    },
    {
      "cell_type": "code",
      "source": [
        "l3 = [x if x%2==0 else 0 for x in l]\n",
        "print(l3)"
      ],
      "metadata": {
        "colab": {
          "base_uri": "https://localhost:8080/"
        },
        "id": "HDCcJChtp1Ax",
        "outputId": "db8cf1a7-b838-4791-a217-205f0ecd88d2"
      },
      "execution_count": null,
      "outputs": [
        {
          "output_type": "stream",
          "name": "stdout",
          "text": [
            "[0, 2, 0, 4, 0, 6]\n"
          ]
        }
      ]
    },
    {
      "cell_type": "code",
      "source": [
        "#sort() sorts the list alphanumerically\n",
        "#sort(reverse = True)-> sorts descending\n",
        "l.sort(reverse=True)\n",
        "print(l)"
      ],
      "metadata": {
        "colab": {
          "base_uri": "https://localhost:8080/"
        },
        "id": "NLpkIxiFs-Hi",
        "outputId": "6f192053-8203-491b-aa74-e1fbc2fbd95d"
      },
      "execution_count": null,
      "outputs": [
        {
          "output_type": "stream",
          "name": "stdout",
          "text": [
            "[6, 5, 4, 3, 2, 1]\n"
          ]
        }
      ]
    },
    {
      "cell_type": "code",
      "source": [
        "def f(n):\n",
        "  return abs(n-50)\n",
        "l = [100,50,65,82,23]\n",
        "l.sort(key = f)\n",
        "print(l) #sorts the list based on how close the number is to 50"
      ],
      "metadata": {
        "colab": {
          "base_uri": "https://localhost:8080/"
        },
        "id": "zoGf3iGltV-S",
        "outputId": "7c311475-cc33-49b4-9a4b-9fdfd4dc6211"
      },
      "execution_count": null,
      "outputs": [
        {
          "output_type": "stream",
          "name": "stdout",
          "text": [
            "[50, 65, 23, 82, 100]\n"
          ]
        }
      ]
    },
    {
      "cell_type": "code",
      "source": [
        "#(key = str.lower) performs a case-insensitive sort of the list\n",
        "#reverse() reverses a list\n",
        "l.reverse()\n",
        "print(l)"
      ],
      "metadata": {
        "colab": {
          "base_uri": "https://localhost:8080/"
        },
        "id": "Ie-85fOUtrub",
        "outputId": "6c8fb3b6-4bed-4807-9646-ff11936c7760"
      },
      "execution_count": null,
      "outputs": [
        {
          "output_type": "stream",
          "name": "stdout",
          "text": [
            "[100, 82, 23, 65, 50]\n"
          ]
        }
      ]
    },
    {
      "cell_type": "code",
      "source": [
        "#copy() copies a list to another\n",
        "l2 = l.copy()\n",
        "print(l2)\n",
        "#we can also use the \":\" operator\n",
        "# l2 = l[:]"
      ],
      "metadata": {
        "colab": {
          "base_uri": "https://localhost:8080/"
        },
        "id": "vIF90qbAuSk6",
        "outputId": "ea07d8e3-4fe9-4e95-8c8b-f65cfe30eae9"
      },
      "execution_count": null,
      "outputs": [
        {
          "output_type": "stream",
          "name": "stdout",
          "text": [
            "[100, 82, 23, 65, 50]\n"
          ]
        }
      ]
    },
    {
      "cell_type": "markdown",
      "source": [
        "Python Tuples"
      ],
      "metadata": {
        "id": "3f2Bkefdys_7"
      }
    },
    {
      "cell_type": "markdown",
      "source": [
        "Tuples are used to store multiple items in a single variable.\n",
        "A tuple is a collection which is ordered and unchangeable (allows duplicates).\n"
      ],
      "metadata": {
        "id": "JbtBabAwL8c9"
      }
    },
    {
      "cell_type": "code",
      "source": [
        "t=(1,2,3)\n",
        "print(t)"
      ],
      "metadata": {
        "id": "GfRD-3d4IUSc",
        "colab": {
          "base_uri": "https://localhost:8080/"
        },
        "outputId": "d29d0b86-f9e7-4cb0-d54f-dc3fe148fe88"
      },
      "execution_count": 1,
      "outputs": [
        {
          "output_type": "stream",
          "name": "stdout",
          "text": [
            "(1, 2, 3)\n"
          ]
        }
      ]
    },
    {
      "cell_type": "code",
      "source": [
        "#use len() to determine how many items.\n",
        "#a tuple can contain different data types\n",
        "t1=(1,\"hello\",True)"
      ],
      "metadata": {
        "id": "YC4lYgrhMHRt"
      },
      "execution_count": null,
      "outputs": []
    },
    {
      "cell_type": "code",
      "source": [
        "# accessing elements with []\n",
        "print(t[0])\n",
        "#-1 refers to the last element"
      ],
      "metadata": {
        "colab": {
          "base_uri": "https://localhost:8080/"
        },
        "id": "UOELUE29MyEV",
        "outputId": "441e4b21-71df-43a7-8ec1-5af772e7748b"
      },
      "execution_count": 2,
      "outputs": [
        {
          "output_type": "stream",
          "name": "stdout",
          "text": [
            "1\n"
          ]
        }
      ]
    },
    {
      "cell_type": "code",
      "source": [
        "#updating tuple elements is impossible, you can convert it into a list than change the list and convert back into a tuple\n",
        "l = list(t)\n",
        "l[2]=4\n",
        "t = tuple(l)\n",
        "print(t)"
      ],
      "metadata": {
        "colab": {
          "base_uri": "https://localhost:8080/"
        },
        "id": "Ciaxi7HhM4Hl",
        "outputId": "dc9c1a39-73b5-4069-df66-74615c3dba8d"
      },
      "execution_count": 4,
      "outputs": [
        {
          "output_type": "stream",
          "name": "stdout",
          "text": [
            "(1, 2, 4)\n"
          ]
        }
      ]
    },
    {
      "cell_type": "code",
      "source": [
        "#appending elements to a tuple can be done multiple ways:\n",
        "# 1-converting it into a list\n",
        "# 2- concatenating tuples using \"+\"\n",
        "t2 = (4,5,6)\n",
        "t3 = (1,2,3)\n",
        "t = t3 + t2\n",
        "print(t)"
      ],
      "metadata": {
        "colab": {
          "base_uri": "https://localhost:8080/"
        },
        "id": "RjLQT3UuNqLm",
        "outputId": "3890de7b-5d2e-484e-fe7b-0bc2051631fe"
      },
      "execution_count": 7,
      "outputs": [
        {
          "output_type": "stream",
          "name": "stdout",
          "text": [
            "(1, 2, 3, 4, 5, 6)\n"
          ]
        }
      ]
    },
    {
      "cell_type": "code",
      "source": [
        "#deleting tuple elements can be done by converting to list or using \"del\" to completely erase it\n",
        "del t2"
      ],
      "metadata": {
        "id": "zMRypnNpOMKV"
      },
      "execution_count": 8,
      "outputs": []
    },
    {
      "cell_type": "code",
      "source": [
        "#unpacking a tuple\n",
        "(x,y,z) = t3\n",
        "print(x)\n",
        "print(y)\n",
        "print(z)\n",
        "# or by using * if the number of variables is less than the number of values\n",
        "(x,y,*z) = t\n",
        "print(z) # z will be a list of elements"
      ],
      "metadata": {
        "colab": {
          "base_uri": "https://localhost:8080/"
        },
        "id": "URktNbx_OuGF",
        "outputId": "5c123659-9671-4a0a-a1c1-e94dc390bc78"
      },
      "execution_count": 11,
      "outputs": [
        {
          "output_type": "stream",
          "name": "stdout",
          "text": [
            "1\n",
            "2\n",
            "3\n",
            "[3, 4, 5, 6]\n"
          ]
        }
      ]
    },
    {
      "cell_type": "code",
      "source": [
        "# tuple methods:\n",
        "x = t.count(1) #counts number of occurences of \"1\"\n",
        "print(x)\n",
        "print(t.index(4)) #returns index of a specified value"
      ],
      "metadata": {
        "colab": {
          "base_uri": "https://localhost:8080/"
        },
        "id": "3gfLGNvGPhQO",
        "outputId": "7968c90f-7d3e-4280-b176-75eac5bd60cd"
      },
      "execution_count": 17,
      "outputs": [
        {
          "output_type": "stream",
          "name": "stdout",
          "text": [
            "1\n",
            "3\n"
          ]
        }
      ]
    },
    {
      "cell_type": "markdown",
      "source": [
        "Python sets\n",
        "\n",
        "A set is a collection which is unordered, unchangeable, and unindexed.\n",
        "\n",
        "---\n",
        "Note: Set items are unchangeable, but you can remove items and add new items."
      ],
      "metadata": {
        "id": "TUwJl2VYafDn"
      }
    },
    {
      "cell_type": "code",
      "source": [
        "s = {1,2,3}\n",
        "print(type(s))"
      ],
      "metadata": {
        "colab": {
          "base_uri": "https://localhost:8080/"
        },
        "id": "gh4DXLm6a0W3",
        "outputId": "db634290-3f31-425c-ee36-dbe10cde330a"
      },
      "execution_count": 18,
      "outputs": [
        {
          "output_type": "stream",
          "name": "stdout",
          "text": [
            "<class 'set'>\n"
          ]
        }
      ]
    },
    {
      "cell_type": "code",
      "source": [
        "#sets elements are unique\n",
        "s = {1,2,3,4,1}\n",
        "print(s)"
      ],
      "metadata": {
        "colab": {
          "base_uri": "https://localhost:8080/"
        },
        "id": "zaHlMzqVbLqm",
        "outputId": "30bccaf0-214a-48c3-f981-cb8d1cb3889b"
      },
      "execution_count": 21,
      "outputs": [
        {
          "output_type": "stream",
          "name": "stdout",
          "text": [
            "{1, 2, 3, 4}\n"
          ]
        }
      ]
    },
    {
      "cell_type": "code",
      "source": [
        "# note that True and 1 hold the same value in a set, same with 0 and False\n",
        "#sets can contain different data types\n",
        "s1= {1,False,\"hellow\"}\n",
        "print(s1)"
      ],
      "metadata": {
        "colab": {
          "base_uri": "https://localhost:8080/"
        },
        "id": "oldnM070bbh_",
        "outputId": "0d754b6d-d23f-4bf6-ece1-7dfac359407c"
      },
      "execution_count": 22,
      "outputs": [
        {
          "output_type": "stream",
          "name": "stdout",
          "text": [
            "{False, 1, 'hellow'}\n"
          ]
        }
      ]
    },
    {
      "cell_type": "code",
      "source": [
        "# to add an element we use .add()\n",
        "s1.add(2)\n",
        "# to add elements from another set into the current set we use .update()\n",
        "s2={10,15,20}\n",
        "s1.update(s2)\n",
        "print(s1)\n",
        "#.update() can have any iterable in its argument"
      ],
      "metadata": {
        "colab": {
          "base_uri": "https://localhost:8080/"
        },
        "id": "6rWOUF9ucFIO",
        "outputId": "848069ad-2056-49be-99a4-22ffa7107116"
      },
      "execution_count": 23,
      "outputs": [
        {
          "output_type": "stream",
          "name": "stdout",
          "text": [
            "{False, 1, 2, 20, 10, 15, 'hellow'}\n"
          ]
        }
      ]
    },
    {
      "cell_type": "code",
      "source": [
        "#we use .remove() or .discard() to remove an item, the difference, remove() will raise an error if the element does not exist\n",
        "s1.remove(10)\n",
        "#pop() removes a random item\n",
        "# clear() empties the set\n",
        "# del deletes the set completely"
      ],
      "metadata": {
        "id": "OLuJcpBFco_2"
      },
      "execution_count": 24,
      "outputs": []
    },
    {
      "cell_type": "code",
      "source": [
        "#There are several ways to join two or more sets in Python.\n",
        "#The union() and update() methods joins all items from both sets.\n",
        "#The intersection() method keeps ONLY the duplicates.\n",
        "#The difference() method keeps the items from the first set that are not in the other set(s).\n",
        "#The symmetric_difference() method keeps all items EXCEPT the duplicates.\n",
        "\n",
        "set1 = {\"a\",\"b\",\"c\"}\n",
        "set2 = {1,2,3}\n",
        "set3 = set1.union(set2)\n",
        "print(set3)"
      ],
      "metadata": {
        "colab": {
          "base_uri": "https://localhost:8080/"
        },
        "id": "XeZnc-UrdLn_",
        "outputId": "7bb524bf-2bd6-4e8b-f555-d2180d38f586"
      },
      "execution_count": 26,
      "outputs": [
        {
          "output_type": "stream",
          "name": "stdout",
          "text": [
            "{1, 2, 3, 'c', 'a', 'b'}\n"
          ]
        }
      ]
    },
    {
      "cell_type": "markdown",
      "source": [
        "Python dictionaries\n",
        "Dictionaries are used to store data values in key:value pairs.\n",
        "\n",
        "---\n",
        "A dictionary is a collection which is ordered, changeable and do not allow duplicates."
      ],
      "metadata": {
        "id": "JBlVsO3ue00w"
      }
    },
    {
      "cell_type": "code",
      "source": [
        "thisdict = {\n",
        "  \"brand\": \"Ford\",\n",
        "  \"model\": \"Mustang\",\n",
        "  \"year\": 1964\n",
        "}\n",
        "print(thisdict)"
      ],
      "metadata": {
        "colab": {
          "base_uri": "https://localhost:8080/"
        },
        "id": "tUMEs6V8fea3",
        "outputId": "3a1fd1df-62d3-44e4-dc77-924ce3e8b915"
      },
      "execution_count": 27,
      "outputs": [
        {
          "output_type": "stream",
          "name": "stdout",
          "text": [
            "{'brand': 'Ford', 'model': 'Mustang', 'year': 1964}\n"
          ]
        }
      ]
    },
    {
      "cell_type": "code",
      "source": [
        "print(thisdict[\"year\"])"
      ],
      "metadata": {
        "colab": {
          "base_uri": "https://localhost:8080/"
        },
        "id": "wVv5LlN6flG3",
        "outputId": "49a40063-01cb-4b86-91ff-86b805c2eb58"
      },
      "execution_count": 28,
      "outputs": [
        {
          "output_type": "stream",
          "name": "stdout",
          "text": [
            "1964\n"
          ]
        }
      ]
    },
    {
      "cell_type": "code",
      "source": [
        "#values in dictionary can be of any data type\n",
        "thisdict = {\n",
        "  \"brand\": \"Ford\",\n",
        "  \"electric\": False,\n",
        "  \"year\": 1964,\n",
        "  \"colors\": [\"red\", \"white\", \"blue\"]\n",
        "}"
      ],
      "metadata": {
        "id": "v6AGMVGUf5C_"
      },
      "execution_count": null,
      "outputs": []
    },
    {
      "cell_type": "code",
      "source": [
        "#get() method used to get a value of a key\n",
        "#.keys() returns a list of keys\n",
        "#.values() returns a list of all values in the dictionary\n",
        "#.items() return each item in a dictionary as tuples in a list\n",
        "print(thisdict.items())"
      ],
      "metadata": {
        "colab": {
          "base_uri": "https://localhost:8080/"
        },
        "id": "oxezxThLgbFw",
        "outputId": "cf23b4a0-ffcc-4a99-8b6c-c8d275016f96"
      },
      "execution_count": 29,
      "outputs": [
        {
          "output_type": "stream",
          "name": "stdout",
          "text": [
            "dict_items([('brand', 'Ford'), ('model', 'Mustang'), ('year', 1964)])\n"
          ]
        }
      ]
    },
    {
      "cell_type": "code",
      "source": [
        "#changing-adding values or key-values respectively is direct using [] or using update()\n",
        "thisdict.update({\"year\": 2020})\n",
        "print(thisdict)"
      ],
      "metadata": {
        "colab": {
          "base_uri": "https://localhost:8080/"
        },
        "id": "oK8i_6n_hGAP",
        "outputId": "39361aab-8eef-456e-a80d-b8fa258c69c4"
      },
      "execution_count": 30,
      "outputs": [
        {
          "output_type": "stream",
          "name": "stdout",
          "text": [
            "{'brand': 'Ford', 'model': 'Mustang', 'year': 2020}\n"
          ]
        }
      ]
    },
    {
      "cell_type": "code",
      "source": [
        "#to remove an item we use pop() with specified key name\n",
        "thisdict.pop(\"model\")\n",
        "print(thisdict)"
      ],
      "metadata": {
        "colab": {
          "base_uri": "https://localhost:8080/"
        },
        "id": "cl6LJahchiim",
        "outputId": "361dcb10-5f87-4edd-c8d5-52c254e3a798"
      },
      "execution_count": 31,
      "outputs": [
        {
          "output_type": "stream",
          "name": "stdout",
          "text": [
            "{'brand': 'Ford', 'year': 2020}\n"
          ]
        }
      ]
    },
    {
      "cell_type": "code",
      "source": [
        "# del does the same job\n",
        "del thisdict['year']\n",
        "print(thisdict)"
      ],
      "metadata": {
        "colab": {
          "base_uri": "https://localhost:8080/"
        },
        "id": "kQQzdcBKhuIf",
        "outputId": "e7aa3f6e-c189-4be3-9166-b17e99179b4f"
      },
      "execution_count": 32,
      "outputs": [
        {
          "output_type": "stream",
          "name": "stdout",
          "text": [
            "{'brand': 'Ford'}\n"
          ]
        }
      ]
    },
    {
      "cell_type": "code",
      "source": [
        "# to loop through keys and values we use .items()\n",
        "for x , y in thisdict.items():\n",
        "  print(x,y)"
      ],
      "metadata": {
        "colab": {
          "base_uri": "https://localhost:8080/"
        },
        "id": "OlE50ZKEh7mf",
        "outputId": "be218ecc-e521-40ab-ce48-7d1224a2a05b"
      },
      "execution_count": 33,
      "outputs": [
        {
          "output_type": "stream",
          "name": "stdout",
          "text": [
            "brand Ford\n"
          ]
        }
      ]
    },
    {
      "cell_type": "code",
      "source": [
        "# we use copy() to make a copy of a dictionary\n",
        "thisdict = {\n",
        "  \"brand\": \"Ford\",\n",
        "  \"model\": \"Mustang\",\n",
        "  \"year\": 1964\n",
        "}\n",
        "mydict = thisdict.copy()\n",
        "print(mydict)"
      ],
      "metadata": {
        "colab": {
          "base_uri": "https://localhost:8080/"
        },
        "id": "DOoaf-GWiJfv",
        "outputId": "731f2c84-1b38-4b65-ba65-1b0c94297f0f"
      },
      "execution_count": 34,
      "outputs": [
        {
          "output_type": "stream",
          "name": "stdout",
          "text": [
            "{'brand': 'Ford', 'model': 'Mustang', 'year': 1964}\n"
          ]
        }
      ]
    }
  ]
}